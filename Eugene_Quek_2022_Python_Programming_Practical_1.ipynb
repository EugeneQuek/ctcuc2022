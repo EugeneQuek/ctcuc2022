{
  "nbformat": 4,
  "nbformat_minor": 0,
  "metadata": {
    "colab": {
      "name": "Eugene Quek - 2022_Python_Programming_Practical_1.ipynb",
      "provenance": [],
      "collapsed_sections": [],
      "include_colab_link": true
    },
    "kernelspec": {
      "name": "python3",
      "display_name": "Python 3"
    }
  },
  "cells": [
    {
      "cell_type": "markdown",
      "metadata": {
        "id": "view-in-github",
        "colab_type": "text"
      },
      "source": [
        "<a href=\"https://colab.research.google.com/github/EugeneQuek/ctcuc2022/blob/main/Eugene_Quek_2022_Python_Programming_Practical_1.ipynb\" target=\"_parent\"><img src=\"https://colab.research.google.com/assets/colab-badge.svg\" alt=\"Open In Colab\"/></a>"
      ]
    },
    {
      "cell_type": "markdown",
      "metadata": {
        "id": "jp3BkDml8xiR"
      },
      "source": [
        "# **2022 Python Programming Practical 1**\n",
        "\n",
        "If you do not have one already, create a [GitHub](https://github.com) account.\n",
        "\n",
        "Create a public repository ctcuc22\n",
        "\n",
        "File --> Save a copy in GitHub under this repository\n",
        "\n",
        "For the following questions,\n",
        "\n",
        "*   standard input: keyboard\n",
        "*   standard output: screen\n",
        "\n"
      ]
    },
    {
      "cell_type": "markdown",
      "metadata": {
        "id": "-U8w0oQW9P_b"
      },
      "source": [
        "**Q1. (Converting Fahrenheit to Celsius)**\n",
        "\n",
        "Write a program that reads a Fahrenheit degree as a float from standard input, then converts it to Celsius and displays the result in standard output. The formula for the conversion is:\n",
        "```\n",
        "celsius = (5/9) * (fahrenheit - 32)\n",
        "```"
      ]
    },
    {
      "cell_type": "code",
      "metadata": {
        "id": "D0uTR7B-8qbF",
        "colab": {
          "base_uri": "https://localhost:8080/"
        },
        "outputId": "47cbd518-a9c8-49a9-860c-8348d82ea306"
      },
      "source": [
        "fahrenheit = float(input(\"State your temperature in Fahrenheit degree: \"))  #input as a float\n",
        "celsius = (5/9) * (fahrenheit - 32)\n",
        "print(\"The temperature in Celsius is {}\".format(round(celsius,1)))"
      ],
      "execution_count": 3,
      "outputs": [
        {
          "output_type": "stream",
          "name": "stdout",
          "text": [
            "State your temperature in Fahrenheit degree: 60\n",
            "The temperature in Celsius is 15.6\n"
          ]
        }
      ]
    },
    {
      "cell_type": "markdown",
      "metadata": {
        "id": "7Ui5CuS_9Za1"
      },
      "source": [
        "**Q2. (Computing the volume of a cylinder)**\n",
        "\n",
        "Write a program that reads in the radius and length of a cylinder and computes its volume using the formulae:\n",
        "```\n",
        "area = radius * radius * pi\n",
        "volume = area * length\n",
        "```\n",
        "\n",
        "\n"
      ]
    },
    {
      "cell_type": "code",
      "metadata": {
        "id": "CfkRAAWV9cXS",
        "colab": {
          "base_uri": "https://localhost:8080/"
        },
        "outputId": "34d37b39-2b21-4064-f9af-7e6c4ef26b1d"
      },
      "source": [
        "import math\n",
        "radius = float(input(\"State the radius in m: \"))\n",
        "length = float(input(\"State the length in m: \"))\n",
        "area = radius ** 2 * math.pi\n",
        "volume = area * length\n",
        "print(\"The volume of the cylinder is {} square metres.\".format(round(volume,1)))"
      ],
      "execution_count": 6,
      "outputs": [
        {
          "output_type": "stream",
          "name": "stdout",
          "text": [
            "State the radius in m: 1.2\n",
            "State the length in m: 2.4\n",
            "The volume of the cylinder is 10.9 square metres.\n"
          ]
        }
      ]
    },
    {
      "cell_type": "markdown",
      "metadata": {
        "id": "aVhHiT8w9c7d"
      },
      "source": [
        "**Q3. (Converting miles into kilometers)**\n",
        "\n",
        "Write a program that reads a number in miles, converts it to kilometres, and outputs the result. One mile is 1.60934 kilometres. Display your answer correct to 3 decimal places."
      ]
    },
    {
      "cell_type": "code",
      "metadata": {
        "id": "PwRmweEa9fny",
        "colab": {
          "base_uri": "https://localhost:8080/"
        },
        "outputId": "2f7ef6ea-541c-42d6-dbb7-589bf173e599"
      },
      "source": [
        "miles = float(input(\"Write down the distance in miles: \"))\n",
        "kilometres = miles * 1.60934\n",
        "print(\"{} miles is equivalent to {} kilometres to 3 decimal places\".format(miles,round(kilometres,3)))"
      ],
      "execution_count": 7,
      "outputs": [
        {
          "output_type": "stream",
          "name": "stdout",
          "text": [
            "Write down the distance in miles: 10\n",
            "10.0 miles is equivalent to 16.093 kilometres to 3 decimal places\n"
          ]
        }
      ]
    },
    {
      "cell_type": "markdown",
      "metadata": {
        "id": "GwAIqQNY9gFd"
      },
      "source": [
        "**Q4. (Summing the digits in an integer)**\n",
        "\n",
        "Write a program that reads an integer between 0 and 1000 and adds all the digits in the integer. For example, if an integer is 932, the sum of all its digits is 14.\n",
        "\n",
        "Hint: Use the % operator to extract digits, and use the // operator to remove the extracted digit. For instance, 932 % 10 = 2 and 932 // 10 = 93"
      ]
    },
    {
      "cell_type": "code",
      "metadata": {
        "id": "aOozTwoR9j9B",
        "colab": {
          "base_uri": "https://localhost:8080/"
        },
        "outputId": "8ab5c609-200b-411e-d99c-11806f91c3fa"
      },
      "source": [
        "num = (input(\"Enter an integer between 0 and 1000: \"))\n",
        "try:\n",
        "  number = int(num)\n",
        "  if number < 0 or number > 1000:\n",
        "    print(\"This integer is not in the range.\")\n",
        "  else:\n",
        "    digit_sum = number % 10 + number // 100 + number // 10 % 10\n",
        "    print(\"The sum of digits in the integer is {}\".format(digit_sum)) \n",
        "except:\n",
        "  print(\"This is not an integer.\")"
      ],
      "execution_count": 43,
      "outputs": [
        {
          "output_type": "stream",
          "name": "stdout",
          "text": [
            "Enter an integer between 0 and 1000: -6\n",
            "This integer is not in the range.\n"
          ]
        }
      ]
    },
    {
      "cell_type": "markdown",
      "metadata": {
        "id": "lE0ScX9e9kcg"
      },
      "source": [
        "**Q5. (Converting an uppercase letter to lowercase)**\n",
        "\n",
        "Write a program that converts an uppercase letter from standard input to a lowercase letter by making use of its ASCII value.\n",
        "\n",
        "http://www.asciitable.com"
      ]
    },
    {
      "cell_type": "code",
      "metadata": {
        "id": "sE_bxwDs9mf6",
        "outputId": "d2a31826-c90a-4f59-819c-1a7df4e47f3a",
        "colab": {
          "base_uri": "https://localhost:8080/"
        }
      },
      "source": [
        "upper = input(\"Enter uppercase letter: \")\n",
        "lower = ord(upper) + 32 # ordinal\n",
        "print(chr(lower))"
      ],
      "execution_count": 26,
      "outputs": [
        {
          "output_type": "stream",
          "name": "stdout",
          "text": [
            "Enter uppercase letter: A\n",
            "a\n"
          ]
        }
      ]
    },
    {
      "cell_type": "markdown",
      "metadata": {
        "id": "KSviQY0T9m7Q"
      },
      "source": [
        "**Q6. (Finding the character of an ASCII code)**\n",
        "\n",
        "Write a program that receives an ASCII value (an integer between 0 and 127) and displays its character. For example, if the user enters 97, the program displays character a.\n",
        "\n",
        "http://www.asciitable.com"
      ]
    },
    {
      "cell_type": "code",
      "metadata": {
        "id": "YbH9Pbul9rK-",
        "colab": {
          "base_uri": "https://localhost:8080/"
        },
        "outputId": "53f47d7f-709a-45a9-ebe0-1aa3fcc46935"
      },
      "source": [
        "code = int(input(\"Enter an integer value between 0 and 127: \" ))\n",
        "print(\"The ASCII character representedby the code is \\'{}'.\".format(chr(code)))"
      ],
      "execution_count": 31,
      "outputs": [
        {
          "output_type": "stream",
          "name": "stdout",
          "text": [
            "Enter an integer value between 0 and 127: 97\n",
            "The ASCII character representedby the code is 'a'\n"
          ]
        }
      ]
    },
    {
      "cell_type": "markdown",
      "metadata": {
        "id": "V9Z95nlg97e4"
      },
      "source": [
        "**Q7. (Payroll)**\n",
        "\n",
        "Write a program that reads in the following information and prints a payroll statement. A sample input and output session is as follows:\n",
        "\n",
        "Sample input:\n",
        "```\n",
        "Enter name: Lim Ah Seng\n",
        "Enter number of hours worked weekly: 10\n",
        "Enter hourly pay rate: 6.75\n",
        "Enter CPF contribution rate(%): 20\n",
        "```\n",
        "\n",
        "Sample output:\n",
        "```\n",
        "Payroll statement for Lim Ah Seng\n",
        "Number of hours worked in week: 10\n",
        "Hourly pay rate: $6.75\n",
        "Gross pay = $67.50\n",
        "CPF contribution at 20% = $13.50\n",
        "Net pay = $54.00\n",
        "```\n",
        "\n"
      ]
    },
    {
      "cell_type": "code",
      "metadata": {
        "id": "1AZvvAW499PK",
        "colab": {
          "base_uri": "https://localhost:8080/"
        },
        "outputId": "07068daa-0c45-4d96-f8d1-e60324c80b9b"
      },
      "source": [
        "name = input(\"Enter name: \")\n",
        "hours = float(input(\"Enter number of hours worked weekly: \"))\n",
        "hourly_rate = float(input(\"Enter hourly pay rate: \"))\n",
        "cpf_rate = float(input(\"Enter CPF contribution rate(%): \"))\n",
        "\n",
        "gross = hours * hourly_rate\n",
        "contribution = gross * (cpf_rate / 100)\n",
        "net_pay = gross - contribution\n",
        "\n",
        "print(\"\\nPayroll statement for {}\".format(name))\n",
        "print(\"Number of hours worked in week: {}\".format(hours))\n",
        "print(\"Hourly pay rate: ${:.2f}\".format(hourly_rate))\n",
        "print(\"Gross pay = ${:.2f}\".format(gross))\n",
        "print(\"CPF contribution at {}% = ${:.2f}\".format(cpf_rate, contribution))\n",
        "print(\"Net pay = ${:.2f}\".format(net_pay))"
      ],
      "execution_count": 35,
      "outputs": [
        {
          "output_type": "stream",
          "name": "stdout",
          "text": [
            "Enter name: Tom\n",
            "Enter number of hours worked weekly: 10\n",
            "Enter hourly pay rate: 6.75\n",
            "Enter CPF contribution rate(%): 20\n",
            "\n",
            "Payroll statement for Tom\n",
            "Number of hours worked in week: 10.0\n",
            "Hourly pay rate: $6.75\n",
            "Gross pay = $67.50\n",
            "CPF contribution at 20.0% = $13.50\n",
            "Net pay = $54.00\n"
          ]
        }
      ]
    }
  ]
}